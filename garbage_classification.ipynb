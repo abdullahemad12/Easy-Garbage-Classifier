{
 "cells": [
  {
   "cell_type": "markdown",
   "metadata": {},
   "source": [
    "Import statement"
   ]
  },
  {
   "cell_type": "code",
   "execution_count": 1,
   "metadata": {},
   "outputs": [],
   "source": [
    "import tensorflow as tf\n",
    "from tensorflow.keras import datasets, layers, models\n",
    "\n",
    "import numpy as np\n",
    "from os import listdir\n",
    "from os.path import isfile, join\n",
    "import matplotlib.pyplot as plt\n",
    "import h5py"
   ]
  },
  {
   "cell_type": "markdown",
   "metadata": {},
   "source": [
    "Load data Functions"
   ]
  },
  {
   "cell_type": "code",
   "execution_count": 2,
   "metadata": {},
   "outputs": [],
   "source": [
    "\n",
    "def shuffle(X, Y):\n",
    "\tp = np.random.permutation(X.shape[0])\n",
    "\treturn (X[p], Y[p])\n",
    "\n",
    "def load_images(path): \n",
    "\n",
    "\timage_files = [f for f in listdir(path) if isfile(join(path, f))]\n",
    "\timages_arr = []\n",
    "\tfor i in range(len(image_files)):\n",
    "\t\timage_np = plt.imread(path + '/' + image_files[i])\n",
    "\t\timages_arr.append(image_np)\n",
    "\t\n",
    "\tsmaple_image = images_arr[0]\n",
    "\timages = np.array(images_arr)\t\n",
    "\t#images = np.zeros((len(images_arr), smaple_image.shape[0], sample_image.shape[1], sample_image.shape[2]))\n",
    "\t\n",
    "\t#for i in range(len(images_arr)):\n",
    "\t#\timages[i] = images_arr[i]\n",
    "\t\n",
    "\treturn images\n",
    "\n",
    "\n",
    "def load_data(path):\n",
    "\t\"\"\"\n",
    "\tGiven the path of the dataset root folder, loads all the images from\n",
    "\tthe subdirectory\n",
    "\tParameters\n",
    "\t\tpath -- path to the root folder of the dataset\n",
    "\tReturns\n",
    "\t\t(X_train, Y_train, X_test, Y_test)\n",
    "\t\"\"\"\n",
    "\t\n",
    "\tif isfile(\"X_train.h5\") and isfile(\"Y_train.h5\") and isfile(\"X_test.h5\") and isfile(\"Y_test.h5\"):\n",
    "\t\tX_train = None\n",
    "\t\tY_train = None\n",
    "\t\tX_test = None\n",
    "\t\tY_test = None\n",
    "\n",
    "\t\twith h5py.File('X_train.h5', 'r') as hf:\n",
    "\t\t\tX_train = hf['X_train'][:]\n",
    "\n",
    "\t\twith h5py.File('Y_train.h5', 'r') as hf:\n",
    "\t\t\tY_train = hf['Y_train'][:]\n",
    "\n",
    "\t\twith h5py.File('X_test.h5', 'r') as hf:\n",
    "\t\t\tX_test = hf['X_test'][:]\n",
    "\n",
    "\t\twith h5py.File('Y_test.h5', 'r') as hf:\n",
    "\t\t\tY_test = hf['Y_test'][:]\n",
    "\t\treturn (X_train, Y_train, X_test, Y_test)\n",
    "\t\n",
    "\tdirectories = [f for f in listdir(path) if not(isfile(join(path, f)))]\n",
    "\tlabels = directories\n",
    "\n",
    "\n",
    "\tX = load_images(path+directories[0])\n",
    "\tY = np.array([0 for i in range(X.shape[0])])\n",
    "\n",
    "\tfor i in range(1, len(directories)):\n",
    "\t\timage = load_images(path+directories[i])\n",
    "\t\tX = np.concatenate((X, image))\n",
    "\t\tY = np.concatenate((Y, np.array([j for j in range(image.shape[0])])))\n",
    "\t\t\n",
    "\t(X, Y) = shuffle(X, Y)\n",
    "\t(X, Y) = shuffle(X, Y)\n",
    "\n",
    "\tX_train = X[0 : int(X.shape[0] * 0.8)]\n",
    "\tY_train = Y[0 : int(Y.shape[0] * 0.8)]\n",
    "\n",
    "\tX_test = X[int(X.shape[0] * 0.8) :]\n",
    "\tY_test = Y[int(Y.shape[0] * 0.8) :]\n",
    "\n",
    "\twith h5py.File('X_train.h5', 'w') as hf:\n",
    "\t\thf.create_dataset('X_train', data=X_train)\n",
    "\t\n",
    "\twith h5py.File('Y_train.h5', 'w') as hf:\n",
    "\t\thf.create_dataset('Y_train', data=Y_train)\n",
    "\t\n",
    "\twith h5py.File('X_test.h5', 'w') as hf:\n",
    "\t\thf.create_dataset('X_test', data=X_test)\n",
    "\n",
    "\twith h5py.File('Y_test.h5', 'w') as hf:\n",
    "\t\thf.create_dataset('Y_test', data=Y_test)\n",
    "\n",
    "\treturn (X_train, Y_train, X_test, Y_test)"
   ]
  },
  {
   "cell_type": "markdown",
   "metadata": {},
   "source": [
    "load data"
   ]
  },
  {
   "cell_type": "code",
   "execution_count": 3,
   "metadata": {},
   "outputs": [],
   "source": [
    "(X_train, Y_train, X_test, Y_test) = load_data('./data/')"
   ]
  },
  {
   "cell_type": "code",
   "execution_count": 4,
   "metadata": {},
   "outputs": [],
   "source": [
    "X_train = (X_train.astype(np.float32) / 255)\n",
    "X_test = (X_test.astype(np.float32) / 255)"
   ]
  },
  {
   "cell_type": "markdown",
   "metadata": {},
   "source": [
    "model"
   ]
  },
  {
   "cell_type": "code",
   "execution_count": 8,
   "metadata": {},
   "outputs": [],
   "source": [
    "model = models.Sequential()\n",
    "\n",
    "model.add(layers.Conv2D(256, (3, 3), padding='same', input_shape=(X_train.shape[1], X_train.shape[2], X_train.shape[3]), activation='relu'))\n",
    "\n",
    "model.add(layers.Conv2D(64, (3, 3), padding='same', activation='relu'))\n",
    "model.add(layers.MaxPooling2D(pool_size=(2,2)))\n",
    "model.add(layers.Dropout(0.25))\n",
    "\n",
    "model.add(layers.Conv2D(32, (3, 3), padding='same', activation='relu'))\n",
    "model.add(layers.MaxPooling2D(pool_size=(2, 2)))\n",
    "model.add(layers.Dropout(0.25))\n",
    "\n",
    "#model.add(layers.Conv2D(128, (3, 3), padding='same', activation='relu'))\n",
    "#model.add(layers.MaxPooling2D(pool_size=(1, 1)))\n",
    "#model.add(layers.Dropout(0.25))\n",
    "\n",
    "#model.add(layers.Conv2D(64, (3, 3), padding='same', activation='relu'))\n",
    "#model.add(layers.MaxPooling2D(pool_size=(1, 1)))\n",
    "#model.add(layers.Dropout(0.25))\n",
    "\n",
    "model.add(layers.Conv2D(32, (3, 3), padding='same', activation='relu'))\n",
    "model.add(layers.MaxPooling2D(pool_size=(1, 1)))\n",
    "model.add(layers.Dropout(0.25))\n",
    "model.add(layers.Flatten())\n",
    "model.add(layers.Dense(128, activation='relu'))\n",
    "\n",
    "model.add(layers.Dense(units=6, activation='softmax'))\n",
    "\n"
   ]
  },
  {
   "cell_type": "code",
   "execution_count": 9,
   "metadata": {},
   "outputs": [],
   "source": [
    "model.compile(optimizer='adam', loss='sparse_categorical_crossentropy', metrics=['accuracy'])\n",
    "\n"
   ]
  },
  {
   "cell_type": "code",
   "execution_count": null,
   "metadata": {},
   "outputs": [
    {
     "name": "stdout",
     "output_type": "stream",
     "text": [
      "(40, 384, 512, 3)\n",
      "Train on 10 samples, validate on 506 samples\n",
      "Epoch 1/10\n"
     ]
    }
   ],
   "source": [
    "print(X_train[0:40].shape)\n",
    "hisotry = model.fit(X_train[0:10], Y_train[0:10], epochs = 10, validation_data = (X_test, Y_test))"
   ]
  },
  {
   "cell_type": "code",
   "execution_count": null,
   "metadata": {},
   "outputs": [],
   "source": []
  }
 ],
 "metadata": {
  "kernelspec": {
   "display_name": "Python 3",
   "language": "python",
   "name": "python3"
  },
  "language_info": {
   "codemirror_mode": {
    "name": "ipython",
    "version": 3
   },
   "file_extension": ".py",
   "mimetype": "text/x-python",
   "name": "python",
   "nbconvert_exporter": "python",
   "pygments_lexer": "ipython3",
   "version": "3.7.3"
  }
 },
 "nbformat": 4,
 "nbformat_minor": 2
}
